{
  "nbformat": 4,
  "nbformat_minor": 0,
  "metadata": {
    "colab": {
      "provenance": []
    },
    "kernelspec": {
      "name": "python3",
      "display_name": "Python 3"
    },
    "language_info": {
      "name": "python"
    }
  },
  "cells": [
    {
      "cell_type": "markdown",
      "source": [
        "Q-01  : What are data structures, and why are they important ?\n",
        "\n"
      ],
      "metadata": {
        "id": "xjuhk1PeynqT"
      }
    },
    {
      "cell_type": "markdown",
      "source": [
        "Data Strucutre in python are some like container that stores the value, organizes it or use memory efficiently.\n",
        "\n",
        "In other word Data Structure is a format of storing data into the memory in efficent manner in order to increase the performance of a stystem.\n",
        "\n",
        "**Some of the data Struture are** : -->list, tuple, set, dictionary, Array, Linkedlist, Stack, Queue,Tree etc;\n",
        "\n",
        "**Importance of Data Structure **\n",
        "\n",
        "1. Efficient Data Handling: means storing the data in effient manner that it uses the merrory efficiently\n",
        "\n",
        "2. Improves Performance : CHoosing the right data Structure reduces the complexity and improves performance.\n",
        "\n",
        "3. Memory Optimization: Right data stutures uses the memory in efficient manner.\n",
        "\n",
        "4. Enable Problem Solving\n",
        "5. Flexibility"
      ],
      "metadata": {
        "id": "mS-fQgEJyrJY"
      }
    },
    {
      "cell_type": "markdown",
      "source": [
        "Q.02 -->   Explain the difference between mutable and immutable data types with examples ?"
      ],
      "metadata": {
        "id": "Xd8tQ65j1bd_"
      }
    },
    {
      "cell_type": "markdown",
      "source": [
        "Answer--02:\n",
        "\n",
        "Mutable Data Type: These are the data type that van be changed or modified after they are created once.\n",
        "\n",
        "When we modify or change the value of data type it is modified in its own place where declared first\n",
        "\n",
        "Example: list, dictionary, sets, array, etc;\n",
        "\n",
        "\n",
        "Immutable Data Type: These are those dta type that can be modified once they are declared means once value assigned to them is permanent u can't modify it .\n",
        "\n",
        "If we try to make changes in these kind of data type then new object is created in place of erplacing the value in old object.\n",
        "\n",
        "Example --> String(str), tuple, int, float, bool,etc;"
      ],
      "metadata": {
        "id": "BoazmNs21spa"
      }
    },
    {
      "cell_type": "code",
      "source": [
        "# Mutable Data Type\n",
        "\n",
        "list=[1,2,4,5,67,\"hii\",3.07]\n",
        "print(list)\n",
        "list[2]=\"Hello Awadhesh\"\n",
        "print(\"Muted List is \",list)"
      ],
      "metadata": {
        "colab": {
          "base_uri": "https://localhost:8080/"
        },
        "id": "YWt0cWQI3eBn",
        "outputId": "0b66b42e-3219-4b9a-c716-629fa7e4318c"
      },
      "execution_count": null,
      "outputs": [
        {
          "output_type": "stream",
          "name": "stdout",
          "text": [
            "[1, 2, 4, 5, 67, 'hii', 3.07]\n",
            "Muted List is  [1, 2, 'Hello Awadhesh', 5, 67, 'hii', 3.07]\n"
          ]
        }
      ]
    },
    {
      "cell_type": "code",
      "source": [
        "# Immutable Data\n",
        "\n",
        "str1= \"Hello Mr. Awadhesh Nice to meet you \"\n",
        "print(str1)\n",
        "str1[2]=\"H\"\n",
        "print(str1)\n"
      ],
      "metadata": {
        "colab": {
          "base_uri": "https://localhost:8080/",
          "height": 211
        },
        "id": "WkrNxcod33JK",
        "outputId": "c37cb374-67bb-4c28-f9a2-f37c3d7fbc5e"
      },
      "execution_count": null,
      "outputs": [
        {
          "output_type": "stream",
          "name": "stdout",
          "text": [
            "Hello Mr. Awadhesh Nice to meet you \n"
          ]
        },
        {
          "output_type": "error",
          "ename": "TypeError",
          "evalue": "'str' object does not support item assignment",
          "traceback": [
            "\u001b[0;31m---------------------------------------------------------------------------\u001b[0m",
            "\u001b[0;31mTypeError\u001b[0m                                 Traceback (most recent call last)",
            "\u001b[0;32m<ipython-input-4-97a3e2be6223>\u001b[0m in \u001b[0;36m<cell line: 0>\u001b[0;34m()\u001b[0m\n\u001b[1;32m      3\u001b[0m \u001b[0mstr1\u001b[0m\u001b[0;34m=\u001b[0m \u001b[0;34m\"Hello Mr. Awadhesh Nice to meet you \"\u001b[0m\u001b[0;34m\u001b[0m\u001b[0;34m\u001b[0m\u001b[0m\n\u001b[1;32m      4\u001b[0m \u001b[0mprint\u001b[0m\u001b[0;34m(\u001b[0m\u001b[0mstr1\u001b[0m\u001b[0;34m)\u001b[0m\u001b[0;34m\u001b[0m\u001b[0;34m\u001b[0m\u001b[0m\n\u001b[0;32m----> 5\u001b[0;31m \u001b[0mstr1\u001b[0m\u001b[0;34m[\u001b[0m\u001b[0;36m2\u001b[0m\u001b[0;34m]\u001b[0m\u001b[0;34m=\u001b[0m\u001b[0;34m\"H\"\u001b[0m\u001b[0;34m\u001b[0m\u001b[0;34m\u001b[0m\u001b[0m\n\u001b[0m\u001b[1;32m      6\u001b[0m \u001b[0mprint\u001b[0m\u001b[0;34m(\u001b[0m\u001b[0mstr1\u001b[0m\u001b[0;34m)\u001b[0m\u001b[0;34m\u001b[0m\u001b[0;34m\u001b[0m\u001b[0m\n",
            "\u001b[0;31mTypeError\u001b[0m: 'str' object does not support item assignment"
          ]
        }
      ]
    },
    {
      "cell_type": "markdown",
      "source": [
        "*  ***Note*** :: As we have seen above the string that comes under immutable data type can't be modifies once declared where as list is mutable in nature.\n"
      ],
      "metadata": {
        "id": "9IsXDkfv4WwC"
      }
    },
    {
      "cell_type": "code",
      "source": [],
      "metadata": {
        "id": "qGrsWRIgqVF4"
      },
      "execution_count": null,
      "outputs": []
    },
    {
      "cell_type": "markdown",
      "source": [
        "Q.03\n",
        "What are the main differences between lists and tuples in Python?"
      ],
      "metadata": {
        "id": "Ly0ntpz94nQR"
      }
    },
    {
      "cell_type": "markdown",
      "source": [
        "**List**\n",
        "\n",
        "* List are the ordered collection of items. It can hold's items of different data type\n",
        "such as int,float,str,complex,boolean,etc;\n",
        "\n",
        "* List is declared using []\n",
        "\n",
        "* List allow duplicate items to be stored\n",
        "\n",
        "* These are mutable in nature, and its are orderly arranged in it\n",
        "\n",
        "* List have more built in function then tuple\n",
        "\n",
        "Example :\n",
        "* list=[1,2,3,4,3,4,3,2]\n",
        "\n",
        "\n",
        "**Tuple** ::\n",
        "\n",
        "* Tuples are Ordered,immutable collection of items Unlike List Tuple's are immutable means once declared can't be modified\n",
        "\n",
        "* Tuples are declared using ()\n",
        "* Allow Duplicates\n",
        "* Tupes are faster in exectuion then list\n",
        "* less build in function due to immutable in nature\n",
        "\n",
        "Example :\n",
        "* tuple=(1,2,3,4,4,3,5)\n",
        "\n"
      ],
      "metadata": {
        "id": "m5RBXBVG4nM2"
      }
    },
    {
      "cell_type": "markdown",
      "source": [
        "Q--04:\n",
        " Describe how dictionaries store data?"
      ],
      "metadata": {
        "id": "7SWGq-24qcyY"
      }
    },
    {
      "cell_type": "markdown",
      "source": [
        "Answer : Dictionary is one   another type of Data Struture that stores the vlues in \"Key-value pair\"\n",
        "means for each value in dic. therer is specific key g=for it\n",
        "\n",
        "* Keys are immutable and unique whiles values are mutable\n",
        "* Dict. hold the order of in item by 3.1 version\n",
        "\n",
        "Example:: How Dict hold values\n",
        "\n"
      ],
      "metadata": {
        "id": "VlAJmDWxqt-j"
      }
    },
    {
      "cell_type": "code",
      "source": [
        "# Storing values\n",
        "list=[]\n",
        "dict_1={\"Name\": \"Awadhesh\", \"Age\": 20, \"Gender\": \"Male\"}\n",
        "print(dict_1)"
      ],
      "metadata": {
        "colab": {
          "base_uri": "https://localhost:8080/"
        },
        "id": "tY3piVFnqtcG",
        "outputId": "b72e1028-9a5c-4e97-d544-78c088e6da2d"
      },
      "execution_count": null,
      "outputs": [
        {
          "output_type": "stream",
          "name": "stdout",
          "text": [
            "{'Name': 'Awadhesh', 'Age': 20, 'Gender': 'Male'}\n"
          ]
        }
      ]
    },
    {
      "cell_type": "code",
      "source": [
        "print(dict_1[\"Name\"])\n",
        "print(dict_1[\"Age\"])\n",
        "print(dict_1[\"Gender\"])"
      ],
      "metadata": {
        "colab": {
          "base_uri": "https://localhost:8080/"
        },
        "id": "iKx4_b8YrzHW",
        "outputId": "58fd0944-6db3-48f4-c717-73ac46c80285"
      },
      "execution_count": null,
      "outputs": [
        {
          "output_type": "stream",
          "name": "stdout",
          "text": [
            "Awadhesh\n",
            "20\n",
            "Male\n"
          ]
        }
      ]
    },
    {
      "cell_type": "code",
      "source": [],
      "metadata": {
        "id": "jDmGzG4Zr5TX"
      },
      "execution_count": null,
      "outputs": []
    },
    {
      "cell_type": "markdown",
      "source": [
        "Question 05:\n",
        "Why might you use a set instead of a list in Python ?"
      ],
      "metadata": {
        "id": "1iroZy6fsMJS"
      }
    },
    {
      "cell_type": "markdown",
      "source": [
        "Answer\n",
        "\n",
        "Use of set over is preferd when we want to store only unique values means no duplicate values to be stored in the memory then we use set in place of list\n",
        "* List are slow in exection then set\n",
        "* when we don't want to store duplicate value\n",
        "\n",
        "Example:: storing primary key for any data"
      ],
      "metadata": {
        "id": "aM2d5qcxsep3"
      }
    },
    {
      "cell_type": "code",
      "source": [],
      "metadata": {
        "id": "t2-petauslUN"
      },
      "execution_count": null,
      "outputs": []
    },
    {
      "cell_type": "markdown",
      "source": [
        "Q--06:\n",
        "  What is a string in Python, and how is it different from a list ?\n",
        "  "
      ],
      "metadata": {
        "id": "T-K-DVE_tVDH"
      }
    },
    {
      "cell_type": "markdown",
      "source": [
        "Answer :\n",
        "\n",
        "**String** : String are the ordered and sequencial collection of Characters\n",
        "* String can be defined by writing any character inside  *'abc ', \"abc \", or '''abc ''' * .\n",
        "* Example:  a=\"Awadhes\"\n",
        "\n",
        "Strings are different from list in different ways\n",
        "* String's are immutable in nature\n",
        "* Used for storing pasages while list hold items\n"
      ],
      "metadata": {
        "id": "dxLj7m4ktbeL"
      }
    },
    {
      "cell_type": "code",
      "source": [],
      "metadata": {
        "id": "O3qrN6scta1A"
      },
      "execution_count": null,
      "outputs": []
    },
    {
      "cell_type": "markdown",
      "source": [
        "Question--07: How do tuples ensure data integrity in Python ?\n"
      ],
      "metadata": {
        "id": "Zxy0hnTyu5H_"
      }
    },
    {
      "cell_type": "markdown",
      "source": [
        "Answer:-->\n",
        "**Tuples Ensures Data Integrity**\n",
        "\n",
        "* Tuples as by nature are **immutable** that means once declared can't be changed  means value stored in them is secure'\n",
        "* Tuples are used to represnt fixed Collection like primary values that do not need changes.\n",
        "\n",
        "* Tuples after declaration only provides readability\n",
        "\n",
        "* Note : so means tuple provode data intrigity\n",
        "\n",
        "\n",
        "\n"
      ],
      "metadata": {
        "id": "rRmHR-ZevLQM"
      }
    },
    {
      "cell_type": "code",
      "source": [],
      "metadata": {
        "id": "mRAdZ7iIvKt7"
      },
      "execution_count": null,
      "outputs": []
    },
    {
      "cell_type": "markdown",
      "source": [
        "Question : 08-->  What is a hash table, and how does it relate to dictionaries in Python ?\n"
      ],
      "metadata": {
        "id": "HwWIJNYiwYun"
      }
    },
    {
      "cell_type": "markdown",
      "source": [
        "Answer-->\n",
        "\n",
        "Hash Table is one of the data structure that stores data in key value pair so to allow fast access of elements .\n",
        "\n",
        "How it relate in Dictionaries\n",
        "* As Dic. to stores values in key value pair like hash table and in dictionary\n",
        "  * Keys act as hash function and values act as hash value\n",
        "  * as keys provide direct  accesing of elememts by its name\n",
        "\n",
        "Example\n"
      ],
      "metadata": {
        "id": "ZiRiBCIBwYZ6"
      }
    },
    {
      "cell_type": "code",
      "source": [
        "dict={\"name\": 'awadhesh', 'age' : 21}\n",
        "print(dict['name'])"
      ],
      "metadata": {
        "colab": {
          "base_uri": "https://localhost:8080/"
        },
        "id": "HOBXahAVx3Jz",
        "outputId": "34c54ad7-a1bc-4720-a583-49e2bf9baf12"
      },
      "execution_count": null,
      "outputs": [
        {
          "output_type": "stream",
          "name": "stdout",
          "text": [
            "awadhesh\n"
          ]
        }
      ]
    },
    {
      "cell_type": "markdown",
      "source": [
        "Question: 09-->   Can lists contain different data types in Python ?\n",
        "\n",
        "\n",
        "Answer --> **Yes**,\n",
        "\n",
        " List can contain differnt types of data type in single list\n",
        "\n",
        "Example:"
      ],
      "metadata": {
        "id": "E_KH1ZnwyBwF"
      }
    },
    {
      "cell_type": "code",
      "source": [
        "list=[ 1,  2.2, 4, 4.0, \"Abcx\", True ]\n",
        "# Differnt data type int,float,str,boolean\n",
        "print(list)"
      ],
      "metadata": {
        "colab": {
          "base_uri": "https://localhost:8080/"
        },
        "id": "WG4c2lgayAgR",
        "outputId": "b62dcdc9-05d0-4eae-8cca-36fee2fc3808"
      },
      "execution_count": null,
      "outputs": [
        {
          "output_type": "stream",
          "name": "stdout",
          "text": [
            "[1, 2.2, 4, 4.0, 'Abcx', True]\n"
          ]
        }
      ]
    },
    {
      "cell_type": "markdown",
      "source": [
        "Question:: 10-->\n",
        "Explain why strings are immutable in Python ?\n",
        "\n",
        "Answer-->Strings are immutable in nature bcz they are enchangeable in nature after declaraition.\n",
        "* They can only be repalced or rewritten they cant be modified\n",
        "* These are the reason they are immutable\n",
        "* Python stores strings in memory in a way that allows reuse of the same string.\n",
        "\n",
        "Example"
      ],
      "metadata": {
        "id": "BgUgex8bzLi4"
      }
    },
    {
      "cell_type": "code",
      "source": [
        "s = \"hello\"\n",
        "s[0] = \"H\"\n",
        "# its not possible\n"
      ],
      "metadata": {
        "colab": {
          "base_uri": "https://localhost:8080/",
          "height": 158
        },
        "id": "-0QI6_xC0SWB",
        "outputId": "84ee4814-2ed6-44cb-dfb5-857f4aa47d35"
      },
      "execution_count": null,
      "outputs": [
        {
          "output_type": "error",
          "ename": "TypeError",
          "evalue": "'str' object does not support item assignment",
          "traceback": [
            "\u001b[0;31m---------------------------------------------------------------------------\u001b[0m",
            "\u001b[0;31mTypeError\u001b[0m                                 Traceback (most recent call last)",
            "\u001b[0;32m<ipython-input-12-78d88c3b3426>\u001b[0m in \u001b[0;36m<cell line: 0>\u001b[0;34m()\u001b[0m\n\u001b[1;32m      1\u001b[0m \u001b[0ms\u001b[0m \u001b[0;34m=\u001b[0m \u001b[0;34m\"hello\"\u001b[0m\u001b[0;34m\u001b[0m\u001b[0;34m\u001b[0m\u001b[0m\n\u001b[0;32m----> 2\u001b[0;31m \u001b[0ms\u001b[0m\u001b[0;34m[\u001b[0m\u001b[0;36m0\u001b[0m\u001b[0;34m]\u001b[0m \u001b[0;34m=\u001b[0m \u001b[0;34m\"H\"\u001b[0m \u001b[0;31m# its not possible\u001b[0m\u001b[0;34m\u001b[0m\u001b[0;34m\u001b[0m\u001b[0m\n\u001b[0m",
            "\u001b[0;31mTypeError\u001b[0m: 'str' object does not support item assignment"
          ]
        }
      ]
    },
    {
      "cell_type": "code",
      "source": [],
      "metadata": {
        "id": "j67B5knF0Xwv"
      },
      "execution_count": null,
      "outputs": []
    },
    {
      "cell_type": "markdown",
      "source": [
        "Question : 11--> What advantages do dictionaries offer over lists for certain tasks ?\n",
        "\n",
        "Answer --> There are numerous advantages of dictionary over list some of them are\n",
        "* Key Based Access : Dictionary offer key based accessible to values stored in dict.\n",
        "* Fast Accessibility: O(1) direct access by key\n",
        "* Easy update: easy to update the value without knowing position\n",
        "* Increases readability in the code"
      ],
      "metadata": {
        "id": "aBtYBqvZ5Ml3"
      }
    },
    {
      "cell_type": "code",
      "source": [],
      "metadata": {
        "id": "AuWa7fYd6QYK"
      },
      "execution_count": null,
      "outputs": []
    },
    {
      "cell_type": "markdown",
      "source": [
        "Question-12-->   Describe a scenario where using a tuple would be preferable over a list?\n",
        "\n",
        "\n",
        "Answer-->\n",
        "tuples are prepefed over list where we want to store the values that we dont want to be altered or updated again  just like our\n",
        "* Aadhar Card no,\n",
        "* Back Account no.\n",
        "* DOB ,etc;\n",
        "\n",
        "And as tuples are faster then list so where we want high perforamnce we preffer tuple over list."
      ],
      "metadata": {
        "id": "YxnK_bXR6RM6"
      }
    },
    {
      "cell_type": "code",
      "source": [],
      "metadata": {
        "id": "F3zs4QyB6cEF"
      },
      "execution_count": null,
      "outputs": []
    },
    {
      "cell_type": "markdown",
      "source": [
        "Question:: 13-->  How do sets handle duplicate values in Python ?\n",
        "\n",
        "Answer --> Sets does not hold the duplicate values in it\n",
        "* it ignores the duplicate value and keep the original value.\n",
        "* It only keeps value once exactly\n",
        "\n",
        "Example:"
      ],
      "metadata": {
        "id": "0_6JH1Vg7_3-"
      }
    },
    {
      "cell_type": "code",
      "source": [
        "set = {1, 2, 2, 3, 4, 4, 4, 5}\n",
        "print(set)\n"
      ],
      "metadata": {
        "colab": {
          "base_uri": "https://localhost:8080/"
        },
        "id": "RERt0IJ193ja",
        "outputId": "89910960-b257-47ef-aa24-17d893467c3c"
      },
      "execution_count": null,
      "outputs": [
        {
          "output_type": "stream",
          "name": "stdout",
          "text": [
            "{1, 2, 3, 4, 5}\n"
          ]
        }
      ]
    },
    {
      "cell_type": "markdown",
      "source": [
        "Question::14 -->  How does the “in” keyword work differently for lists and dictionaries ?\n",
        "\n",
        "\n",
        "Answer-->\n",
        "\n",
        "In is a membership built -in funtion that checks whether the given is member of other is or not.\n",
        "\n",
        "**'in'** in list is used  to check the element in it in* sequencial format* and returns true if founds that element in list.\n",
        "\n",
        "In Dictionary \"in\" method is used to check key whether it is present or not\n",
        "* It does not verfify or check for values of key\n",
        "\n",
        "Example"
      ],
      "metadata": {
        "id": "JAe4ivYT98pP"
      }
    },
    {
      "cell_type": "code",
      "source": [
        "list = [10, 20, 30]\n",
        "print(20 in list)\n",
        "print(25 in list)"
      ],
      "metadata": {
        "colab": {
          "base_uri": "https://localhost:8080/"
        },
        "id": "bIGxNksc4pKi",
        "outputId": "c9387bcf-14cf-496b-ccd6-713a008b8175"
      },
      "execution_count": null,
      "outputs": [
        {
          "output_type": "stream",
          "name": "stdout",
          "text": [
            "True\n",
            "False\n"
          ]
        }
      ]
    },
    {
      "cell_type": "code",
      "source": [
        "dict = {'a': 1, 'b': 2}\n",
        "print('a' in dict)\n",
        "print(1 in dict)      #  here it does not check value"
      ],
      "metadata": {
        "colab": {
          "base_uri": "https://localhost:8080/"
        },
        "id": "eG0nbWL24xNr",
        "outputId": "7937568e-d921-4640-89e9-92536ddd5f03"
      },
      "execution_count": null,
      "outputs": [
        {
          "output_type": "stream",
          "name": "stdout",
          "text": [
            "True\n",
            "False\n"
          ]
        }
      ]
    },
    {
      "cell_type": "markdown",
      "source": [
        "Question:: 15--> Can you modify the elements of a tuple? Explain why or why not ?\n",
        "\n",
        "\n",
        "Answer--> No, we can't modify the elements of tuple bcz tuples are immutable in nature.\n",
        "\n",
        "Example"
      ],
      "metadata": {
        "id": "gLuKc6ky4-xc"
      }
    },
    {
      "cell_type": "code",
      "source": [
        "tuple = (1, 2, 3)\n",
        "tuple[0] = 10"
      ],
      "metadata": {
        "colab": {
          "base_uri": "https://localhost:8080/",
          "height": 158
        },
        "id": "Cgc-l5JI44HD",
        "outputId": "5632d499-2bf2-4f1c-f8a8-9a97eb8f4ef6"
      },
      "execution_count": null,
      "outputs": [
        {
          "output_type": "error",
          "ename": "TypeError",
          "evalue": "'tuple' object does not support item assignment",
          "traceback": [
            "\u001b[0;31m---------------------------------------------------------------------------\u001b[0m",
            "\u001b[0;31mTypeError\u001b[0m                                 Traceback (most recent call last)",
            "\u001b[0;32m<ipython-input-3-ac6407ba53e7>\u001b[0m in \u001b[0;36m<cell line: 0>\u001b[0;34m()\u001b[0m\n\u001b[1;32m      1\u001b[0m \u001b[0mtuple\u001b[0m \u001b[0;34m=\u001b[0m \u001b[0;34m(\u001b[0m\u001b[0;36m1\u001b[0m\u001b[0;34m,\u001b[0m \u001b[0;36m2\u001b[0m\u001b[0;34m,\u001b[0m \u001b[0;36m3\u001b[0m\u001b[0;34m)\u001b[0m\u001b[0;34m\u001b[0m\u001b[0;34m\u001b[0m\u001b[0m\n\u001b[0;32m----> 2\u001b[0;31m \u001b[0mtuple\u001b[0m\u001b[0;34m[\u001b[0m\u001b[0;36m0\u001b[0m\u001b[0;34m]\u001b[0m \u001b[0;34m=\u001b[0m \u001b[0;36m10\u001b[0m\u001b[0;34m\u001b[0m\u001b[0;34m\u001b[0m\u001b[0m\n\u001b[0m",
            "\u001b[0;31mTypeError\u001b[0m: 'tuple' object does not support item assignment"
          ]
        }
      ]
    },
    {
      "cell_type": "markdown",
      "source": [
        "Question::16-->  What is a nested dictionary, and give an example of its use case ?\\\n",
        "\n",
        "Answer-->  A nested dictionary is a dictionary inside another dictionary, that means one inside another.\n",
        "\n",
        "Example"
      ],
      "metadata": {
        "id": "EJ8184MX5lAE"
      }
    },
    {
      "cell_type": "code",
      "source": [
        "students = {\n",
        "    '1': {'name': 'Abc', 'age': 20, 'grade': 'A'},\n",
        "    '2': {'name': 'Bcd', 'age': 21, 'grade': 'B'},\n",
        "    '3': {'name': 'Cde', 'age': 22, 'grade': 'A'}\n",
        "}"
      ],
      "metadata": {
        "id": "XmJrKQds57f0"
      },
      "execution_count": null,
      "outputs": []
    },
    {
      "cell_type": "code",
      "source": [
        "print(students['1']['name'],students['1']['age'])\n",
        "print(students['1'])"
      ],
      "metadata": {
        "colab": {
          "base_uri": "https://localhost:8080/"
        },
        "id": "8HBH7Boo58iZ",
        "outputId": "bc1184fd-249c-47d5-d84c-6a019810447c"
      },
      "execution_count": null,
      "outputs": [
        {
          "output_type": "stream",
          "name": "stdout",
          "text": [
            "Abc 20\n",
            "{'name': 'Abc', 'age': 20, 'grade': 'A'}\n"
          ]
        }
      ]
    },
    {
      "cell_type": "code",
      "source": [],
      "metadata": {
        "id": "4Q0ElwNI6P8k"
      },
      "execution_count": null,
      "outputs": []
    },
    {
      "cell_type": "markdown",
      "source": [
        "Question::17-->\n",
        "\n",
        "Describe the time complexity of accessing elements in a dictionary ?\n",
        "\n",
        "Answer--> Time complexity of accessing elements in dict. is O(1).\n",
        "\n",
        "* Hashing technique is used in Dictioanry\n",
        "* Because keys in dictionary are unique and immutable in nature.\n",
        " And this makes accessing fast\n",
        "\n",
        "\n",
        "\n"
      ],
      "metadata": {
        "id": "KwwnVNXo62Bp"
      }
    },
    {
      "cell_type": "markdown",
      "source": [
        "Questuion::18-->  In what situations are lists preferred over dictionaries ?\n",
        "\n",
        "Answer--> we use list over dictionary when we want to stores value without any key or specific identity.\n",
        "* When we want to access by index rather than key.\n",
        "* when we are not storing elenets as key value pair."
      ],
      "metadata": {
        "id": "ijfKnHKJ8hd7"
      }
    },
    {
      "cell_type": "markdown",
      "source": [
        "Question::19-->  Why are dictionaries considered unordered, and how does that affect data retrieval ?\n",
        "\n",
        "Answer-->  Dictionary are considered to be unordered before 3.7 version after that they are considered as ordered.\n",
        "\n",
        "* In dictioary we deels with key value pair and values are accesed using keys rather than index."
      ],
      "metadata": {
        "id": "YDx0X3wP-A0F"
      }
    },
    {
      "cell_type": "markdown",
      "source": [
        "Question::20-->\n",
        "\n",
        "Explain the difference between a list and a dictionary in terms of data retrieval ?\n",
        "\n",
        "Answer-->  A list is an ordered collection of items, where each item has a position (index).\n",
        "\n",
        "* To Access its elements we access it by its index(0,1,2....)\n",
        "\n",
        "Example-->\n"
      ],
      "metadata": {
        "id": "5lI5TJAFAc-A"
      }
    },
    {
      "cell_type": "code",
      "source": [
        "\n",
        "list=[1,2,23,3,4,5,5]\n",
        "print(list[2])"
      ],
      "metadata": {
        "colab": {
          "base_uri": "https://localhost:8080/"
        },
        "id": "IwHxWT5o9_1y",
        "outputId": "12992a3e-c2f4-4e21-ce18-fbb4e106eaf7"
      },
      "execution_count": null,
      "outputs": [
        {
          "output_type": "stream",
          "name": "stdout",
          "text": [
            "23\n"
          ]
        }
      ]
    },
    {
      "cell_type": "markdown",
      "source": [
        "A dictionary is a collection of key-value pairs, where each item has a unique key associated with a value.\n",
        "* To retrive an element , we access it by its key, not by position.\n",
        "\n",
        "Example"
      ],
      "metadata": {
        "id": "Ay_Z2VVMBUVy"
      }
    },
    {
      "cell_type": "code",
      "source": [
        "dict={'name': 'Awadhesh', 'age': 20}\n",
        "print(dict['name'])"
      ],
      "metadata": {
        "colab": {
          "base_uri": "https://localhost:8080/"
        },
        "id": "x5hkl6PWBTDm",
        "outputId": "18e642df-6f41-4956-cbc9-34eff40263cd"
      },
      "execution_count": null,
      "outputs": [
        {
          "output_type": "stream",
          "name": "stdout",
          "text": [
            "Awadhesh\n"
          ]
        }
      ]
    },
    {
      "cell_type": "markdown",
      "source": [
        "---------------------------------------------------------------------------------------------------**Practical  Questions**----------------------------------------------------------------------------------------------"
      ],
      "metadata": {
        "id": "uRXbjmuwBx5a"
      }
    },
    {
      "cell_type": "markdown",
      "source": [
        "Question--01  Write a code to create a string with your name and print it"
      ],
      "metadata": {
        "id": "gmuKmNzKCCEv"
      }
    },
    {
      "cell_type": "code",
      "source": [
        "name=\"Awadhesh Pratap Singh\"\n",
        "print(name)\n",
        "# name"
      ],
      "metadata": {
        "colab": {
          "base_uri": "https://localhost:8080/"
        },
        "id": "8oEE3vrIB82c",
        "outputId": "e2d3a9b9-ed8c-45ba-ca29-1f36d25f4bd4"
      },
      "execution_count": null,
      "outputs": [
        {
          "output_type": "stream",
          "name": "stdout",
          "text": [
            "Awadhesh Pratap Singh\n"
          ]
        }
      ]
    },
    {
      "cell_type": "markdown",
      "source": [
        "Question-02  Write a code to find the length of the string \"Hello World\"?"
      ],
      "metadata": {
        "id": "yPkEkKfuCWSI"
      }
    },
    {
      "cell_type": "code",
      "source": [
        "a=\"Hello World\"\n",
        "b=len(a)\n",
        "print(b)"
      ],
      "metadata": {
        "colab": {
          "base_uri": "https://localhost:8080/"
        },
        "id": "KVFKb7x3ClUp",
        "outputId": "4904f333-c69d-4ff3-87ad-1c60d09e7833"
      },
      "execution_count": null,
      "outputs": [
        {
          "output_type": "stream",
          "name": "stdout",
          "text": [
            "11\n"
          ]
        }
      ]
    },
    {
      "cell_type": "markdown",
      "source": [
        "Question--03  Write a code to slice the first 3 characters from the string \"Python Programming\"?\n"
      ],
      "metadata": {
        "id": "26nUSEyrCcLt"
      }
    },
    {
      "cell_type": "code",
      "source": [
        "a=\"Python Programming\"\n",
        "print(a[:3])"
      ],
      "metadata": {
        "colab": {
          "base_uri": "https://localhost:8080/"
        },
        "id": "hXeUmzHCCUk_",
        "outputId": "eae50572-f88b-49f6-cdcb-335b1e251924"
      },
      "execution_count": null,
      "outputs": [
        {
          "output_type": "stream",
          "name": "stdout",
          "text": [
            "Pyt\n"
          ]
        }
      ]
    },
    {
      "cell_type": "markdown",
      "source": [
        "Question--04   Write a code to convert the string \"hello\" to uppercase ?"
      ],
      "metadata": {
        "id": "BwWI9enaDGyK"
      }
    },
    {
      "cell_type": "code",
      "source": [
        "a=\"hello\"\n",
        "b=a.upper()\n",
        "print(b)"
      ],
      "metadata": {
        "colab": {
          "base_uri": "https://localhost:8080/"
        },
        "id": "cW8YlplrDEnN",
        "outputId": "1c30a485-89eb-4da5-9f7f-b5aad12152a0"
      },
      "execution_count": null,
      "outputs": [
        {
          "output_type": "stream",
          "name": "stdout",
          "text": [
            "HELLO\n"
          ]
        }
      ]
    },
    {
      "cell_type": "markdown",
      "source": [
        "Question--5  Write a code to replace the word \"apple\" with \"orange\" in the string \"I like apple\"?\n"
      ],
      "metadata": {
        "id": "2Auys5HDDk2G"
      }
    },
    {
      "cell_type": "code",
      "source": [
        "a= \"I like apple\"\n",
        "b=a.replace(\"apple\",\"orange\")\n",
        "print(b)"
      ],
      "metadata": {
        "colab": {
          "base_uri": "https://localhost:8080/"
        },
        "id": "053xAb6RDW5G",
        "outputId": "51828bdf-aa35-4031-cec6-10f717e328b6"
      },
      "execution_count": null,
      "outputs": [
        {
          "output_type": "stream",
          "name": "stdout",
          "text": [
            "I like orange\n"
          ]
        }
      ]
    },
    {
      "cell_type": "markdown",
      "source": [
        "Question---06  Write a code to create a list with numbers 1 to 5 and print it ?"
      ],
      "metadata": {
        "id": "2400WaN3D9yH"
      }
    },
    {
      "cell_type": "code",
      "source": [
        "list1 = [1, 2, 3, 4, 5]\n",
        "print(list1)"
      ],
      "metadata": {
        "colab": {
          "base_uri": "https://localhost:8080/"
        },
        "id": "Z5-inUDvEOhd",
        "outputId": "b5dd5459-e0b2-43f5-b92f-5c6fe8419284"
      },
      "execution_count": null,
      "outputs": [
        {
          "output_type": "stream",
          "name": "stdout",
          "text": [
            "[1, 2, 3, 4, 5]\n"
          ]
        }
      ]
    },
    {
      "cell_type": "markdown",
      "source": [
        "Question--07  Write a code to append the number 10 to the list [1, 2, 3, 4]?"
      ],
      "metadata": {
        "id": "lUiSt0bnEpHG"
      }
    },
    {
      "cell_type": "code",
      "source": [
        "list=[1,2,3,4]\n",
        "list.append(10)\n",
        "print(list)"
      ],
      "metadata": {
        "colab": {
          "base_uri": "https://localhost:8080/"
        },
        "id": "b8BsUDnoEZ9o",
        "outputId": "4192d10f-8fa9-42f4-e8ad-18886f159ae5"
      },
      "execution_count": null,
      "outputs": [
        {
          "output_type": "stream",
          "name": "stdout",
          "text": [
            "[1, 2, 3, 4, 10]\n"
          ]
        }
      ]
    },
    {
      "cell_type": "markdown",
      "source": [
        "Question--08  Write a code to remove the number 3 from the list [1, 2, 3, 4, 5]"
      ],
      "metadata": {
        "id": "qHrRcfMOFaxm"
      }
    },
    {
      "cell_type": "code",
      "source": [
        "list= [1, 2, 3, 4, 5]\n",
        "list.remove(3)\n",
        "print(list)"
      ],
      "metadata": {
        "colab": {
          "base_uri": "https://localhost:8080/"
        },
        "id": "yeGZoDqWE3Cv",
        "outputId": "db1205b9-66c0-4f3b-8f1c-036b9e8da034"
      },
      "execution_count": null,
      "outputs": [
        {
          "output_type": "stream",
          "name": "stdout",
          "text": [
            "[1, 2, 4, 5]\n"
          ]
        }
      ]
    },
    {
      "cell_type": "code",
      "source": [
        "#  Question 09\n",
        "# Write a code to access the second element in the list ['a', 'b', 'c', 'd']\n",
        "\n",
        "list= ['a', 'b', 'c', 'd']\n",
        "print(list[1])"
      ],
      "metadata": {
        "colab": {
          "base_uri": "https://localhost:8080/"
        },
        "id": "lAYiAw9jFoNF",
        "outputId": "964b80b4-65ad-4cf1-f9f2-a9c674de66b1"
      },
      "execution_count": null,
      "outputs": [
        {
          "output_type": "stream",
          "name": "stdout",
          "text": [
            "b\n"
          ]
        }
      ]
    },
    {
      "cell_type": "code",
      "source": [],
      "metadata": {
        "id": "F7ymIF2aF5OI"
      },
      "execution_count": null,
      "outputs": []
    },
    {
      "cell_type": "markdown",
      "source": [
        "Question-10-->\n",
        "Write a code to reverse the list [10, 20, 30, 40, 50]."
      ],
      "metadata": {
        "id": "vuzIz3CAGACn"
      }
    },
    {
      "cell_type": "code",
      "source": [
        "list= [10, 20, 30, 40, 50]\n",
        "print(list[::-1])"
      ],
      "metadata": {
        "colab": {
          "base_uri": "https://localhost:8080/"
        },
        "id": "Ni27IwbuGF-F",
        "outputId": "5966e97b-6d17-49f0-b1ba-efa2155cacfd"
      },
      "execution_count": null,
      "outputs": [
        {
          "output_type": "stream",
          "name": "stdout",
          "text": [
            "[50, 40, 30, 20, 10]\n"
          ]
        }
      ]
    },
    {
      "cell_type": "markdown",
      "source": [
        "Question--11--> Write a code to create a tuple with the elements 100, 200, 300 and print it."
      ],
      "metadata": {
        "id": "Qco3WaBAGL3n"
      }
    },
    {
      "cell_type": "code",
      "source": [
        "tuple=(100,200,300)\n",
        "print(tuple)\n"
      ],
      "metadata": {
        "colab": {
          "base_uri": "https://localhost:8080/"
        },
        "id": "NJh8P0QqGVrM",
        "outputId": "3e794bb8-9336-4ff6-fd60-6309f9d5e0fc"
      },
      "execution_count": null,
      "outputs": [
        {
          "output_type": "stream",
          "name": "stdout",
          "text": [
            "(100, 200, 300)\n"
          ]
        },
        {
          "output_type": "execute_result",
          "data": {
            "text/plain": [
              "tuple"
            ]
          },
          "metadata": {},
          "execution_count": 34
        }
      ]
    },
    {
      "cell_type": "markdown",
      "source": [
        "Question--12::Write a code to access the second-to-last element of the tuple ('red', 'green', 'blue', 'yellow')."
      ],
      "metadata": {
        "id": "gKMtiuPdGnoR"
      }
    },
    {
      "cell_type": "code",
      "source": [
        "tuple= ('red', 'green', 'blue', 'yellow')\n",
        "print(tuple[-2])"
      ],
      "metadata": {
        "colab": {
          "base_uri": "https://localhost:8080/"
        },
        "id": "SA6Vxa9XGKvw",
        "outputId": "dfac885a-f359-424d-8e43-63331f7c764c"
      },
      "execution_count": null,
      "outputs": [
        {
          "output_type": "stream",
          "name": "stdout",
          "text": [
            "blue\n"
          ]
        }
      ]
    },
    {
      "cell_type": "markdown",
      "source": [
        "Question::13--> Write a code to find the minimum number in the tuple (10, 20, 5, 15)"
      ],
      "metadata": {
        "id": "damOknZQG35S"
      }
    },
    {
      "cell_type": "code",
      "source": [
        "tuple =(10, 20, 5, 15)\n",
        "print(min(tuple))"
      ],
      "metadata": {
        "colab": {
          "base_uri": "https://localhost:8080/"
        },
        "id": "4a6VYQYVG0Cm",
        "outputId": "88333b8e-24c1-40d2-aa1f-6034931886ba"
      },
      "execution_count": null,
      "outputs": [
        {
          "output_type": "stream",
          "name": "stdout",
          "text": [
            "5\n"
          ]
        }
      ]
    },
    {
      "cell_type": "markdown",
      "source": [
        "Question--14::\n",
        " Write a code to find the index of the element \"cat\" in the tuple ('dog', 'cat', 'rabbit')"
      ],
      "metadata": {
        "id": "FoaIWWq2HErq"
      }
    },
    {
      "cell_type": "code",
      "source": [
        "tuple= ('dog', 'cat', 'rabbit')\n",
        "index=tuple.index('cat')\n",
        "print(index)\n"
      ],
      "metadata": {
        "colab": {
          "base_uri": "https://localhost:8080/"
        },
        "id": "645kS5GjHC0a",
        "outputId": "f71b9da5-7a8e-4fce-d7b6-51a6afdf1679"
      },
      "execution_count": null,
      "outputs": [
        {
          "output_type": "stream",
          "name": "stdout",
          "text": [
            "1\n"
          ]
        }
      ]
    },
    {
      "cell_type": "markdown",
      "source": [
        "Question-15-->\n",
        " Write a code to create a tuple containing three different fruits and check if \"kiwi\" is in it ?\n"
      ],
      "metadata": {
        "id": "j3zcgG4uHXrl"
      }
    },
    {
      "cell_type": "code",
      "source": [
        "fruits = ('apple', 'kiwi', 'orange')\n",
        "\n",
        "if 'kiwi' in fruits:\n",
        "    print(\"Yes, kiwi is in the Fruits\")\n",
        "else:\n",
        "    print(\"No, kiwi is not in the Fruits\")"
      ],
      "metadata": {
        "colab": {
          "base_uri": "https://localhost:8080/"
        },
        "id": "4Bq9NAXoHWBk",
        "outputId": "0c757bf5-fa78-4f60-cfa7-287d6cd62828"
      },
      "execution_count": null,
      "outputs": [
        {
          "output_type": "stream",
          "name": "stdout",
          "text": [
            "Yes, kiwi is in the tuple\n"
          ]
        }
      ]
    },
    {
      "cell_type": "markdown",
      "source": [
        "Question-16-->\n",
        "\n",
        "Write a code to create a set with the elements 'a', 'b', 'c' and print it."
      ],
      "metadata": {
        "id": "i8_fx-Y6H3g1"
      }
    },
    {
      "cell_type": "code",
      "source": [
        "a={'a','b','c'}\n",
        "print(a)\n",
        "type(a)"
      ],
      "metadata": {
        "colab": {
          "base_uri": "https://localhost:8080/"
        },
        "id": "_kjjU4pcH-z7",
        "outputId": "35509f10-a03c-4a8a-bdbc-7a0e623b7119"
      },
      "execution_count": null,
      "outputs": [
        {
          "output_type": "stream",
          "name": "stdout",
          "text": [
            "{'c', 'b', 'a'}\n"
          ]
        },
        {
          "output_type": "execute_result",
          "data": {
            "text/plain": [
              "set"
            ]
          },
          "metadata": {},
          "execution_count": 42
        }
      ]
    },
    {
      "cell_type": "markdown",
      "source": [
        "Question--17->\n",
        " Write a code to clear all elements from the set {1, 2, 3, 4, 5}.\n",
        "\n",
        "\n",
        "\n"
      ],
      "metadata": {
        "id": "DHCADD-iIIEv"
      }
    },
    {
      "cell_type": "code",
      "source": [
        "set = {1, 2, 3, 4, 5}\n",
        "set.clear()\n",
        "print(set)"
      ],
      "metadata": {
        "colab": {
          "base_uri": "https://localhost:8080/"
        },
        "id": "UcDgFXC1HqFu",
        "outputId": "940c62d1-8a75-48e0-e929-d84a4b04adbc"
      },
      "execution_count": null,
      "outputs": [
        {
          "output_type": "stream",
          "name": "stdout",
          "text": [
            "set()\n"
          ]
        }
      ]
    },
    {
      "cell_type": "markdown",
      "source": [
        "Question-18--> Write a code to remove the element 4 from the set {1, 2, 3, 4}.\n",
        "\n"
      ],
      "metadata": {
        "id": "usbwnStMIU6g"
      }
    },
    {
      "cell_type": "code",
      "source": [
        "set= {1, 2, 3, 4}\n",
        "set.remove(4)\n",
        "print(set)"
      ],
      "metadata": {
        "colab": {
          "base_uri": "https://localhost:8080/"
        },
        "id": "ro2tAG7SISVQ",
        "outputId": "302fcaa1-43f3-47a6-9727-126405bb3e9c"
      },
      "execution_count": null,
      "outputs": [
        {
          "output_type": "stream",
          "name": "stdout",
          "text": [
            "{1, 2, 3}\n"
          ]
        }
      ]
    },
    {
      "cell_type": "markdown",
      "source": [
        "Question-19:-->Write a code to find the union of two sets {1, 2, 3} and {3, 4, 5}."
      ],
      "metadata": {
        "id": "M9xayFyuImYI"
      }
    },
    {
      "cell_type": "code",
      "source": [
        "set1= {1, 2, 3}\n",
        "set2={3, 4, 5}\n",
        "set3=set1.union(set2)\n",
        "print(set3)"
      ],
      "metadata": {
        "colab": {
          "base_uri": "https://localhost:8080/"
        },
        "id": "xO1I5XKqIkc9",
        "outputId": "1d48708a-213e-496c-8903-cf6800df1506"
      },
      "execution_count": null,
      "outputs": [
        {
          "output_type": "stream",
          "name": "stdout",
          "text": [
            "{1, 2, 3, 4, 5}\n"
          ]
        }
      ]
    },
    {
      "cell_type": "markdown",
      "source": [
        "Question::20-->Write a code to find the intersection of two sets {1, 2, 3} and {2, 3, 4}."
      ],
      "metadata": {
        "id": "Klvi4HTPJEWt"
      }
    },
    {
      "cell_type": "code",
      "source": [
        "set1={1,2,3}\n",
        "set2={2,3,4}\n",
        "set3=set1.intersection(set2)\n",
        "print(set3)"
      ],
      "metadata": {
        "colab": {
          "base_uri": "https://localhost:8080/"
        },
        "id": "W7SHlofJJMMG",
        "outputId": "75e28efc-2069-41d8-dbd5-6adee3937b48"
      },
      "execution_count": null,
      "outputs": [
        {
          "output_type": "stream",
          "name": "stdout",
          "text": [
            "{2, 3}\n"
          ]
        }
      ]
    },
    {
      "cell_type": "markdown",
      "source": [
        "Question--21->\n",
        "Write a code to create a dictionary with the keys \"name\", \"age\", and \"city\", and print it."
      ],
      "metadata": {
        "id": "7vcao4wPJbLF"
      }
    },
    {
      "cell_type": "code",
      "source": [
        "dict={'name': 'Awadhesh', 'age': 20, 'city': 'Delhi'}\n",
        "print(dict)"
      ],
      "metadata": {
        "colab": {
          "base_uri": "https://localhost:8080/"
        },
        "id": "WUBDQutoJXjt",
        "outputId": "56f3255e-e421-4499-ad68-7f30be5f58d2"
      },
      "execution_count": null,
      "outputs": [
        {
          "output_type": "stream",
          "name": "stdout",
          "text": [
            "{'name': 'Awadhesh', 'age': 20, 'city': 'Delhi'}\n"
          ]
        }
      ]
    },
    {
      "cell_type": "markdown",
      "source": [
        "Question-22--> Write a code to add a new key-value pair \"country\": \"USA\" to the dictionary {'name': 'John', 'age': 25}."
      ],
      "metadata": {
        "id": "6PK0TNvEJvbP"
      }
    },
    {
      "cell_type": "code",
      "source": [
        "dict={'name': 'John', 'age': 20}\n",
        "dict['country']=\"USA\"\n",
        "print(dict)"
      ],
      "metadata": {
        "colab": {
          "base_uri": "https://localhost:8080/"
        },
        "id": "yxV5kVjkJuCf",
        "outputId": "ee41b41c-f01e-4635-fc3d-e370d9acfacf"
      },
      "execution_count": null,
      "outputs": [
        {
          "output_type": "stream",
          "name": "stdout",
          "text": [
            "{'name': 'John', 'age': 20, 'country': 'USA'}\n"
          ]
        }
      ]
    },
    {
      "cell_type": "markdown",
      "source": [
        "Question 23--> Write a code to access the value associated with the key \"name\" in the dictionary {'name': 'Alice', 'age': 30}.\n"
      ],
      "metadata": {
        "id": "rp1GWl7yKiB9"
      }
    },
    {
      "cell_type": "code",
      "source": [
        "dict={'name': 'Alice', 'age': 30}\n",
        "print(dict['name'])\n"
      ],
      "metadata": {
        "colab": {
          "base_uri": "https://localhost:8080/"
        },
        "id": "FlhdjQUVKf_T",
        "outputId": "e12e7028-18cc-4b9b-8ba1-3293a6b66e9d"
      },
      "execution_count": null,
      "outputs": [
        {
          "output_type": "stream",
          "name": "stdout",
          "text": [
            "Alice\n"
          ]
        }
      ]
    },
    {
      "cell_type": "markdown",
      "source": [
        "Question-24--> Write a code to remove the key \"age\" from the dictionary {'name': 'Bob', 'age': 22, 'city': 'New York'}.\n",
        "\n",
        "\n"
      ],
      "metadata": {
        "id": "UDFwSDu5K-nu"
      }
    },
    {
      "cell_type": "code",
      "source": [
        "\n",
        "dict={'name': 'Bob', 'age': 22, 'city': 'New York'}\n",
        "dict.pop('age')\n",
        "print(dict)\n"
      ],
      "metadata": {
        "colab": {
          "base_uri": "https://localhost:8080/"
        },
        "id": "3KlkmRY5K0Y2",
        "outputId": "8e213dd9-7be3-43cd-8e28-8d200a0bf9bc"
      },
      "execution_count": null,
      "outputs": [
        {
          "output_type": "stream",
          "name": "stdout",
          "text": [
            "{'name': 'Bob', 'city': 'New York'}\n"
          ]
        }
      ]
    },
    {
      "cell_type": "markdown",
      "source": [
        "Question-25--> Write a code to check if the key \"city\" exists in the dictionary {'name': 'Alice', 'city': 'Paris'}.\n"
      ],
      "metadata": {
        "id": "Grzr6pm-LO5m"
      }
    },
    {
      "cell_type": "code",
      "source": [
        "dict={'name': 'Alice', 'city': 'Paris'}\n",
        "print('city' in dict)"
      ],
      "metadata": {
        "colab": {
          "base_uri": "https://localhost:8080/"
        },
        "id": "VjuAjk7QLMe0",
        "outputId": "7f80bdab-bc47-4fd5-e961-e645967aca86"
      },
      "execution_count": null,
      "outputs": [
        {
          "output_type": "stream",
          "name": "stdout",
          "text": [
            "True\n"
          ]
        }
      ]
    },
    {
      "cell_type": "markdown",
      "source": [
        "Question-26-->\n",
        "Write a code to create a list, a tuple, and a dictionary, and print them all.\n",
        "\n",
        "\n"
      ],
      "metadata": {
        "id": "ZYJ2GopBLhvZ"
      }
    },
    {
      "cell_type": "code",
      "source": [
        "list=[1,2,3,4,5]\n",
        "tuple=(1,2,3,4,5)\n",
        "dict={'name': 'Awadhesh', 'age': 20}\n",
        "print(list)\n",
        "print(tuple)\n",
        "print(dict)"
      ],
      "metadata": {
        "colab": {
          "base_uri": "https://localhost:8080/"
        },
        "id": "jJc_n6FMLf-w",
        "outputId": "65bb984a-051b-44fd-bd48-af46028db145"
      },
      "execution_count": null,
      "outputs": [
        {
          "output_type": "stream",
          "name": "stdout",
          "text": [
            "[1, 2, 3, 4, 5]\n",
            "(1, 2, 3, 4, 5)\n",
            "{'name': 'Awadhesh', 'age': 20}\n"
          ]
        }
      ]
    },
    {
      "cell_type": "markdown",
      "source": [
        "Question-27-->\n",
        "Write a code to create a list of 5 random numbers between 1 and 100, sort it in ascending order, and print the\n",
        "result.(replaced)"
      ],
      "metadata": {
        "id": "b5aMudAlLzO1"
      }
    },
    {
      "cell_type": "code",
      "source": [
        "list=[45,75,85,48,96]\n",
        "print(list)\n",
        "list.sort()\n",
        "print(list)"
      ],
      "metadata": {
        "colab": {
          "base_uri": "https://localhost:8080/"
        },
        "id": "oOZNsEV7Lvve",
        "outputId": "064421d7-3cc0-4061-efb0-035f79534952"
      },
      "execution_count": null,
      "outputs": [
        {
          "output_type": "stream",
          "name": "stdout",
          "text": [
            "[45, 75, 85, 48, 96]\n",
            "[45, 48, 75, 85, 96]\n"
          ]
        }
      ]
    },
    {
      "cell_type": "markdown",
      "source": [
        "Question--28--> Write a code to create a list with strings and print the element at the third index.\n"
      ],
      "metadata": {
        "id": "vIw_W8fSMVFM"
      }
    },
    {
      "cell_type": "code",
      "source": [
        "list=['abc','bcd','cde','def','efg']\n",
        "print(list[2])"
      ],
      "metadata": {
        "colab": {
          "base_uri": "https://localhost:8080/"
        },
        "id": "sDbd5MqvMOAP",
        "outputId": "acfbd890-8791-436b-d733-32b64eec1014"
      },
      "execution_count": null,
      "outputs": [
        {
          "output_type": "stream",
          "name": "stdout",
          "text": [
            "cde\n"
          ]
        }
      ]
    },
    {
      "cell_type": "markdown",
      "source": [
        "Qyestion-29--> Write a code to combine two dictionaries into one and print the result."
      ],
      "metadata": {
        "id": "QX0NuyNJMqQk"
      }
    },
    {
      "cell_type": "code",
      "source": [
        "dict_1={'name': 'Awadhesh', 'age': 20}\n",
        "dict_2={'city': 'Lucknow', 'country': 'India'}\n",
        "dict_1.update(dict_2)\n",
        "print(dict_1)"
      ],
      "metadata": {
        "colab": {
          "base_uri": "https://localhost:8080/"
        },
        "id": "-0q3J_uZMpL8",
        "outputId": "7a741028-f79b-416e-cc08-0aef96b18cb6"
      },
      "execution_count": null,
      "outputs": [
        {
          "output_type": "stream",
          "name": "stdout",
          "text": [
            "{'name': 'Awadhesh', 'age': 20, 'city': 'Lucknow', 'country': 'India'}\n"
          ]
        }
      ]
    },
    {
      "cell_type": "markdown",
      "source": [
        "Question--30-->  Write a code to convert a list of strings into a set."
      ],
      "metadata": {
        "id": "P6kTNepFM9s5"
      }
    },
    {
      "cell_type": "code",
      "source": [
        "list=['a','b','c','d','e']\n",
        "b={i for i in list}\n",
        "print(b)\n",
        "\n",
        "'''a = ['a', 'b', 'c', 'd']\n",
        " b = set (a)\n",
        " print(b) '''# Is creating error don't kow why"
      ],
      "metadata": {
        "colab": {
          "base_uri": "https://localhost:8080/"
        },
        "id": "vgR_z712NLzj",
        "outputId": "ac3a94c7-cf52-492d-b20a-c59823aaccc0"
      },
      "execution_count": null,
      "outputs": [
        {
          "output_type": "stream",
          "name": "stdout",
          "text": [
            "{'b', 'e', 'd', 'a', 'c'}\n"
          ]
        }
      ]
    }
  ]
}