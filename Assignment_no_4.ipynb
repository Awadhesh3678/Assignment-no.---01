{
  "nbformat": 4,
  "nbformat_minor": 0,
  "metadata": {
    "colab": {
      "provenance": []
    },
    "kernelspec": {
      "name": "python3",
      "display_name": "Python 3"
    },
    "language_info": {
      "name": "python"
    }
  },
  "cells": [
    {
      "cell_type": "markdown",
      "source": [
        "Question-01.  What is Object-Oriented Programming (OOP)?\n",
        "\n",
        "Answer-->   Object-Oriented Programming (OOP) is a way of writing computer programs by using real-life ideas like objects and classes.\n",
        "\n",
        "There are 4 pillars of oops\n",
        "* Encapsulation\n",
        "* Inheritance\n",
        "* Abstration\n",
        "* Ploymorphism"
      ],
      "metadata": {
        "id": "C_aXTZZqfEdA"
      }
    },
    {
      "cell_type": "markdown",
      "source": [
        "Question-02. What is a class in OOP?\n",
        "\n",
        "Answer--> A class is like a blueprint or template used to create objects.\n",
        "\n",
        "The class is a user-defined data structure that consist of the methods and data members into a single unit entity.\n",
        "\n",
        "Declared using : keyword 'class' followed up by class name"
      ],
      "metadata": {
        "id": "CpXVPrW4fEf0"
      }
    },
    {
      "cell_type": "markdown",
      "source": [
        "Question-03. What is an object in OOP?\n",
        "\n",
        "Answer-->  An instance of a class is an object.\n",
        "It consists of a set of methods and attributes. Actions are carried\n",
        "out using a class's object.\n",
        "\n",
        "Syntax: object= class_bame()"
      ],
      "metadata": {
        "id": "L-Cdfxc4fEhd"
      }
    },
    {
      "cell_type": "markdown",
      "source": [
        "Question-04.  What is the difference between abstraction and encapsulation?\n",
        "\n",
        "**Abstraction**\n",
        "* Means hiding  unnecessary details and showing only the important features.\n",
        "* Focus on what an object does\n",
        "\n",
        "\n",
        "**Encapsulation**\n",
        "* Means Hiding data by keeping it safe inside a class and controlling access to it.\n",
        "* Focus on how to protect the data\n",
        "\n",
        "Example:\n",
        "\n",
        "ATM Machine:\n",
        "\n",
        "Abstraction: You press buttons to withdraw cash — you don’t see the internal process.\n",
        "\n",
        "Encapsulation: Your PIN and bank details are hidden and protected from others.\n",
        "\n"
      ],
      "metadata": {
        "id": "ym12vMerfEki"
      }
    },
    {
      "cell_type": "markdown",
      "source": [
        "Question-05.   What are dunder methods in Python?\n",
        "\n",
        "Answer--> Dunder methods (short for Double UNDerscore) are special methods in Python that start and end with two underscores, like _____init___, ___str___, ___len__, etc.\n",
        "\n",
        "They are also called magic methods because Python uses them to do built-in behavior behind the scenes.\n",
        "\n"
      ],
      "metadata": {
        "id": "qxMnsGR4fE2T"
      }
    },
    {
      "cell_type": "markdown",
      "source": [
        "\n",
        "Question-06.\n",
        "Explain the concept of inheritance in OOP?\n",
        "\n",
        "Answer-->  Inheritance is a concept where a child class (also called a subclass) can reuse the properties and methods of a parent class (also called a base class).\n",
        "\n",
        "It’s like a child getting features or behaviors from their parents.\n"
      ],
      "metadata": {
        "id": "jIR6-WesfE5H"
      }
    },
    {
      "cell_type": "markdown",
      "source": [
        "Question-07.  What is Polymorphism in OOP?\n",
        "\n",
        "Answer-->  Polymorphism means using a single inte\n",
        "rface to represent different types of objects. In OOP, it allows the same method name to work differently for different classes. For example, both Dog and Cat can have a method called make_sound(), but each will behave differently. It helps write flexible code where functions can work with objects of different types. This is mainly achieved using method overriding in Python.\n",
        "\n"
      ],
      "metadata": {
        "id": "TkpCZBjDfE8w"
      }
    },
    {
      "cell_type": "markdown",
      "source": [
        "  Question 08.--How is Encapsulation Achieved in Python?\n",
        "\n",
        "  Answer-->\n",
        "  \n",
        "Encapsulation means hiding internal data and allowing access only through methods. In Python, we use underscores to make variables private (e.g., __name). We can then use getters and setters (with @property) to access them safely. This prevents accidental changes and keeps data secure. Encapsulation also helps in writing modular and maintainable code."
      ],
      "metadata": {
        "id": "PBOp0j_clRst"
      }
    },
    {
      "cell_type": "markdown",
      "source": [
        "Question 09-->. What is a Constructor in Python?\n",
        "\n",
        "Answer-->\n",
        "\n",
        "A constructor in Python is the __init__() method. It automatically runs when we create an object from a class. Its job is to initialize the object’s properties. For example, we can pass values like name or age to set up the object. It helps in preparing an object with starting values."
      ],
      "metadata": {
        "id": "7ry63YaelRpH"
      }
    },
    {
      "cell_type": "markdown",
      "source": [
        "Question 10.  What are Class and Static Methods in Python?\n",
        "\n",
        "Answer:\n",
        "\n",
        "A class method uses @classmethod and takes cls as the first argument. It can access class-level data.\n",
        "\n",
        "A static method uses @staticmethod and doesn’t take self or cls. It behaves like a regular function but stays inside the class.\n",
        "Both are useful when we don’t need object-level data but still want to keep the function inside a class for organization."
      ],
      "metadata": {
        "id": "A7MXlLnOlRnK"
      }
    },
    {
      "cell_type": "markdown",
      "source": [
        "Question 11. . What is Method Overloading in Python?\n",
        "\n",
        "Answer\n",
        "\n",
        "\n",
        "Python does not support method overloading like other languages. However, we can use default arguments, *args, or **kwargs to mimic it. This allows one method to handle different numbers of inputs. It’s not true overloading but still works in most situations. Overloading improves flexibility by using the same method name for different input formats."
      ],
      "metadata": {
        "id": "ht4_LFIzlRlH"
      }
    },
    {
      "cell_type": "markdown",
      "source": [
        "Question 12. What is Method Overriding in OOP?\n",
        "\n",
        "Anaswer\n",
        "\n",
        "Method overriding is when a child class provides its own version of a method that exists in the parent class. This is useful when we want to change or extend how a method works. It allows for dynamic behavior and supports polymorphism. The method in the child class must have the same name and parameters. It's common in inheritance.\n",
        "\n",
        "\n"
      ],
      "metadata": {
        "id": "AIpCAi52lRid"
      }
    },
    {
      "cell_type": "markdown",
      "source": [
        "Question 13 . What is a Property Decorator in Python?\n",
        "\n",
        "Answer\n",
        "\n",
        "The @property decorator lets us turn a method into a property. This means we can access a method like an attribute. It is often used to get values, and we can also use @<property>.setter to allow controlled setting. It makes code more readable and allows encapsulation. It hides method calls and makes object access simpler.\n",
        "\n",
        "\n"
      ],
      "metadata": {
        "id": "NydBzOa2lRf-"
      }
    },
    {
      "cell_type": "markdown",
      "source": [
        "Question 14. Why is Polymorphism Important in OOP?\n",
        "\n",
        "Answer\n",
        "\n",
        "Polymorphism makes programs more flexible and extensible. It allows different classes to be treated the same if they implement the same method. This helps in designing systems that can handle different object types without changing the code. It’s a key principle that supports cleaner, more maintainable code. It also enables inheritance and method overriding to work effectively."
      ],
      "metadata": {
        "id": "A7ixSadblRdv"
      }
    },
    {
      "cell_type": "markdown",
      "source": [
        "Question 15. What is an Abstract Class in Python?\n",
        "\n",
        "Answer\n",
        "\n",
        "An abstract class is a class that cannot be used to create objects directly. It contains one or more abstract methods that are declared but not defined. We use the abc module and @abstractmethod to create abstract classes. They are like blueprints for other classes. All child classes must implement the abstract methods, ensuring consistency.\n",
        "\n"
      ],
      "metadata": {
        "id": "AzE-WBT5lRb0"
      }
    },
    {
      "cell_type": "markdown",
      "source": [
        "Question 16.  What are the Advantages of OOP?\n",
        "\n",
        "Answer\n",
        "\n",
        "* OOP promotes code reuse using inheritance.\n",
        "\n",
        "* It provides encapsulation to secure data.\n",
        "\n",
        "* Helps in abstraction, hiding unnecessary details.\n",
        "\n",
        "* Supports polymorphism, allowing flexible functions.\n",
        "\n",
        "* Makes large programs easier to maintain and expand.\n"
      ],
      "metadata": {
        "id": "OWaLjrBnlRZO"
      }
    },
    {
      "cell_type": "markdown",
      "source": [
        "Question 17. Difference Between Class Variable and Instance Variable\n",
        "\n",
        "Answer:\n",
        "\n",
        "A class variable is shared by all instances of a class.\n",
        "\n",
        "An instance variable is unique for each object.\n",
        "Class variables are defined outside methods, while instance variables are inside __init__. Changing a class variable affects all objects, but changing an instance variable affects only that object. They help manage shared vs. object-specific data.\n",
        "\n",
        "\n"
      ],
      "metadata": {
        "id": "3YBSVZE2oye7"
      }
    },
    {
      "cell_type": "markdown",
      "source": [
        "Question 18. What is Multiple Inheritance in Python?\n",
        "\n",
        "Answer\n",
        "\n",
        "Multiple inheritance means a class inherits from more than one parent class. In Python, it’s written as class C(A, B):. This allows combining features of both parent classes. Python handles conflicts using the MRO (Method Resolution Order). It’s powerful but must be used carefully to avoid confusion. It’s useful in complex systems."
      ],
      "metadata": {
        "id": "wV1SLzvBoyba"
      }
    },
    {
      "cell_type": "markdown",
      "source": [
        "Question 19 . Explain the Purpose of __str__ and __repr__\n",
        "\n",
        "Answer\n",
        "\n",
        "__str__ gives a user-friendly string output for print().\n",
        "\n",
        "__repr__ gives a developer-friendly string for debugging.\n",
        "If only __repr__ is defined, it also works for print(). __repr__ should ideally return a string that can recreate the object. They help in understanding object data easily."
      ],
      "metadata": {
        "id": "VX3sSwGioyY6"
      }
    },
    {
      "cell_type": "markdown",
      "source": [
        "Question 20. What is the Significance of super() in Python?\n",
        "\n",
        "Answer\n",
        "\n",
        "The super() function is used to call methods from the parent class. It’s commonly used inside __init__ to initialize the base class. It is also useful when overriding methods, so we can still use the original method. It supports multiple inheritance by following MRO. It reduces code duplication and improves clarity.\n",
        "\n"
      ],
      "metadata": {
        "id": "y7OXWnBJoyWu"
      }
    },
    {
      "cell_type": "markdown",
      "source": [
        "Question 21 . What is the Significance of __del__ Method?\n",
        "\n",
        "Answer\n",
        "\n",
        "The __del__() method is a destructor. It is called when an object is deleted or goes out of scope. It’s used to clean up resources like files or memory. We don’t use it often, but it's helpful in managing system resources. It runs automatically like __init__."
      ],
      "metadata": {
        "id": "ONq_zyqaoyU3"
      }
    },
    {
      "cell_type": "markdown",
      "source": [
        "Question 22. Difference Between @staticmethod and @classmethod\n",
        "\n",
        "Answer\n",
        "\n",
        "@staticmethod doesn't take self or cls, and works like a normal function inside a class.\n",
        "\n",
        "@classmethod takes cls and can access/modify class variables.\n",
        "Use static methods for general tasks. Use class methods when you need to know which class is calling the method. Both improve class design."
      ],
      "metadata": {
        "id": "oRfZs_6UoyS0"
      }
    },
    {
      "cell_type": "markdown",
      "source": [
        "Question 23. How Does Polymorphism Work in Python with Inheritance?\n",
        "\n",
        "Answer\n",
        "\n",
        "In Python, polymorphism is achieved by method overriding in inherited classes. For example, both Dog and Cat classes can override a method called speak(). We can then loop through a list of animals and call speak() on each without knowing their exact types. This is runtime polymorphism. It allows different objects to behave differently while using the same method name.\n",
        "\n",
        "\n"
      ],
      "metadata": {
        "id": "2iWx2G2koyQQ"
      }
    },
    {
      "cell_type": "markdown",
      "source": [
        "Question24. What is Method Chaining in Python OOP?\n",
        "\n",
        "Answer\n",
        "\n",
        "Method chaining is a technique where multiple methods are called on the same object in a single line of code. Each method returns the object itself (self) so the next method can be chained. It helps write clean, readable, and fluent code. For example: obj.set_name(\"Alex\").set_age(25).set_email(\"a@mail.com\"). To enable chaining, methods must return self at the end. It's commonly used in builder patterns and fluent interfaces."
      ],
      "metadata": {
        "id": "3GWpiJLWqk4m"
      }
    },
    {
      "cell_type": "markdown",
      "source": [
        "Question 25. What is the Purpose of the __call__ Method in Python?\n",
        "\n",
        "Answer\n",
        "\n",
        "The __call__() method lets an object be called like a function. If a class defines this method, its instances can be \"called\" using parentheses — just like functions. For example, obj() will automatically invoke obj.__call__(). This is useful in scenarios like function wrappers, decorators, or when we want an object to have behavior similar to a function. It adds more flexibility to object behavior in Python.\n",
        "\n"
      ],
      "metadata": {
        "id": "6HqyMuoDqkzu"
      }
    },
    {
      "cell_type": "code",
      "source": [
        "#  Practical Questions\n",
        "\n"
      ],
      "metadata": {
        "id": "TebZIDxuqdPM"
      },
      "execution_count": 1,
      "outputs": []
    },
    {
      "cell_type": "code",
      "source": [
        "''' 1. Create a parent class Animal with a method speak() that prints a generic message.\n",
        "Create a child class Dog that overrides the speak() method to print \"Bark!\".\n",
        "'''\n",
        "class Animal:\n",
        "    def speak(self):\n",
        "        print(\"The animal makes a sound.\")\n",
        "\n",
        "class Dog(Animal):\n",
        "    def speak(self):\n",
        "        print(\"Bark!\")\n",
        "\n",
        "a = Animal()\n",
        "a.speak()\n",
        "\n",
        "d = Dog()\n",
        "d.speak()\n"
      ],
      "metadata": {
        "colab": {
          "base_uri": "https://localhost:8080/"
        },
        "id": "mWwasmoQrCxS",
        "outputId": "f10f9fa7-b6c3-4e6e-9ae4-03cca5eab822"
      },
      "execution_count": 5,
      "outputs": [
        {
          "output_type": "stream",
          "name": "stdout",
          "text": [
            "The animal makes a sound.\n",
            "Bark!\n"
          ]
        }
      ]
    },
    {
      "cell_type": "code",
      "source": [
        "''' 2. Write a program to create an abstract class Shape with a method area().\n",
        "  Derive classes Circle and Rectangle from it and implement the area() method in both.\n",
        "'''\n",
        "from abc import ABC, abstractmethod\n",
        "import math\n",
        "\n",
        "class Shape(ABC):\n",
        "    @abstractmethod\n",
        "    def area(self):\n",
        "        pass\n",
        "\n",
        "class Circle(Shape):\n",
        "    def __init__(self, radius):\n",
        "        self.radius = radius\n",
        "\n",
        "    def area(self):\n",
        "        return math.pi * self.radius * self.radius\n",
        "\n",
        "class Rectangle(Shape):\n",
        "    def __init__(self, width, height):\n",
        "        self.width = width\n",
        "        self.height = height\n",
        "\n",
        "    def area(self):\n",
        "        return self.width * self.height\n",
        "\n",
        "c = Circle(5)\n",
        "r = Rectangle(4, 6)\n",
        "print(\"Circle area:\", c.area())\n",
        "print(\"Rectangle area:\", r.area())\n"
      ],
      "metadata": {
        "colab": {
          "base_uri": "https://localhost:8080/"
        },
        "id": "BQIqEl1trlbd",
        "outputId": "9e5287b7-3c5c-4371-fe8d-94402cbf0d9f"
      },
      "execution_count": 6,
      "outputs": [
        {
          "output_type": "stream",
          "name": "stdout",
          "text": [
            "Circle area: 78.53981633974483\n",
            "Rectangle area: 24\n"
          ]
        }
      ]
    },
    {
      "cell_type": "code",
      "source": [
        "'''3. Implement a multi-level inheritance scenario where a class Vehicle has an attribute type.\n",
        "  Derive a class Car and further derive a class ElectricCar that adds a battery attribute.\n",
        "'''\n",
        "\n",
        "class Vehicle:\n",
        "    def set_type(self, type):\n",
        "        self.type = type\n",
        "\n",
        "class Car(Vehicle):\n",
        "    def set_brand(self, brand):\n",
        "        self.brand = brand\n",
        "\n",
        "class ElectricCar(Car):\n",
        "    def set_battery(self, battery):\n",
        "        self.battery = battery\n",
        "\n",
        "    def show_details(self):\n",
        "        print(f\"Type: {self.type}, Brand: {self.brand}, Battery: {self.battery} kWh\")\n",
        "\n",
        "e = ElectricCar()\n",
        "e.set_type(\"Electric\")\n",
        "e.set_brand(\"Tesla\")\n",
        "e.set_battery(85)\n",
        "e.show_details()\n",
        "\n"
      ],
      "metadata": {
        "colab": {
          "base_uri": "https://localhost:8080/"
        },
        "id": "p4ijep8Sr1vO",
        "outputId": "9e9acaa7-7780-425f-a6f6-5b6bfe02276a"
      },
      "execution_count": 8,
      "outputs": [
        {
          "output_type": "stream",
          "name": "stdout",
          "text": [
            "Type: Electric, Brand: Tesla, Battery: 85 kWh\n"
          ]
        }
      ]
    },
    {
      "cell_type": "code",
      "source": [
        "''' 4. Demonstrate polymorphism by creating a base class Bird with a method fly().\n",
        "  Create two derived classes Sparrow and Penguin that override the fly() method.\n",
        "'''\n",
        "class Bird:\n",
        "    def fly(self):\n",
        "        print(\"Bird is flying...\")\n",
        "\n",
        "class Sparrow(Bird):\n",
        "    def fly(self):\n",
        "        print(\"Sparrow flies high in the sky.\")\n",
        "\n",
        "class Penguin(Bird):\n",
        "    def fly(self):\n",
        "        print(\"Penguin cannot fly.\")\n",
        "\n",
        "birds = [Sparrow(), Penguin()]\n",
        "\n",
        "for bird in birds:\n",
        "    bird.fly()\n"
      ],
      "metadata": {
        "colab": {
          "base_uri": "https://localhost:8080/"
        },
        "id": "GNvy7FuVr-gW",
        "outputId": "56fd70fa-258d-46be-8dfb-2832bda178c8"
      },
      "execution_count": 9,
      "outputs": [
        {
          "output_type": "stream",
          "name": "stdout",
          "text": [
            "Sparrow flies high in the sky.\n",
            "Penguin cannot fly.\n"
          ]
        }
      ]
    },
    {
      "cell_type": "code",
      "source": [
        "'''5. Write a program to demonstrate encapsulation by creating a class BankAccount\n",
        "  with private attributes balance and methods to deposit, withdraw, and check balance.\n",
        "'''\n",
        "class BankAccount:\n",
        "    __balance = 0\n",
        "\n",
        "    def deposit(self, amount):\n",
        "        if amount > 0:\n",
        "            self.__balance += amount\n",
        "            print(f\"{amount} deposited.\")\n",
        "        else:\n",
        "            print(\"Invalid amount.\")\n",
        "\n",
        "    def withdraw(self, amount):\n",
        "        if 0 < amount <= self.__balance:\n",
        "            self.__balance -= amount\n",
        "            print(f\"{amount} withdrawn.\")\n",
        "        else:\n",
        "            print(\"Insufficient balance or invalid amount.\")\n",
        "\n",
        "    def check_balance(self):\n",
        "        print(f\"Current balance: {self.__balance}\")\n",
        "\n",
        "acc = BankAccount()\n",
        "acc.deposit(1000)\n",
        "acc.withdraw(500)\n",
        "acc.check_balance()\n"
      ],
      "metadata": {
        "colab": {
          "base_uri": "https://localhost:8080/"
        },
        "id": "8xmn6E9ksSmU",
        "outputId": "7b0a9187-66ce-476a-d5c8-12b1d4a4d843"
      },
      "execution_count": 10,
      "outputs": [
        {
          "output_type": "stream",
          "name": "stdout",
          "text": [
            "1000 deposited.\n",
            "500 withdrawn.\n",
            "Current balance: 500\n"
          ]
        }
      ]
    },
    {
      "cell_type": "code",
      "source": [
        "# 6. Demonstrate runtime polymorphism using a method play() in a base class Instrument.\n",
        "#    Derive classes Guitar and Piano that implement their own version of play().\n",
        "\n",
        "class Instrument:\n",
        "    def play(self):\n",
        "        print(\"Instrument is playing.\")\n",
        "\n",
        "class Guitar(Instrument):\n",
        "    def play(self):\n",
        "        print(\"Guitar is playing chords.\")\n",
        "\n",
        "class Piano(Instrument):\n",
        "    def play(self):\n",
        "        print(\"Piano is playing melody.\")\n",
        "\n",
        "i1 = Guitar()\n",
        "i2 = Piano()\n",
        "\n",
        "i1.play()\n",
        "i2.play()\n"
      ],
      "metadata": {
        "colab": {
          "base_uri": "https://localhost:8080/"
        },
        "id": "lmQ8brcWtLkU",
        "outputId": "f659c364-3649-47ae-f2ed-b3bc59c5dc68"
      },
      "execution_count": 11,
      "outputs": [
        {
          "output_type": "stream",
          "name": "stdout",
          "text": [
            "Guitar is playing chords.\n",
            "Piano is playing melody.\n"
          ]
        }
      ]
    },
    {
      "cell_type": "code",
      "source": [
        "# 7. Create a class MathOperations with a class method add_numbers() to add two numbers\n",
        "#    and a static method subtract_numbers() to subtract two numbers.\n",
        "\n",
        "class MathOperations:\n",
        "    @classmethod\n",
        "    def add_numbers(cls, a, b):\n",
        "        return a + b\n",
        "\n",
        "    @staticmethod\n",
        "    def subtract_numbers(a, b):\n",
        "        return a - b\n",
        "\n",
        "print(\"Addition:\", MathOperations.add_numbers(5, 3))\n",
        "print(\"Subtraction:\", MathOperations.subtract_numbers(5, 3))\n"
      ],
      "metadata": {
        "colab": {
          "base_uri": "https://localhost:8080/"
        },
        "id": "KKJD-WkVtN17",
        "outputId": "50be312b-64c5-4879-e810-3cf98300a345"
      },
      "execution_count": 12,
      "outputs": [
        {
          "output_type": "stream",
          "name": "stdout",
          "text": [
            "Addition: 8\n",
            "Subtraction: 2\n"
          ]
        }
      ]
    },
    {
      "cell_type": "code",
      "source": [
        "# 8. Implement a class Person with a class method to count the total number of persons created.\n",
        "\n",
        "class Person:\n",
        "    count = 0\n",
        "\n",
        "    def __init__(self, name):\n",
        "        self.name = name\n",
        "        Person.count += 1\n",
        "\n",
        "    @classmethod\n",
        "    def total_persons(cls):\n",
        "        return cls.count\n",
        "\n",
        "p1 = Person(\"Awadhesh\")\n",
        "p2 = Person(\"Ravi\")\n",
        "print(\"Total persons:\", Person.total_persons())\n"
      ],
      "metadata": {
        "colab": {
          "base_uri": "https://localhost:8080/"
        },
        "id": "dz-dxJjutQqO",
        "outputId": "1b44cbac-a3ec-430b-ee6f-f00a516dd88e"
      },
      "execution_count": 13,
      "outputs": [
        {
          "output_type": "stream",
          "name": "stdout",
          "text": [
            "Total persons: 2\n"
          ]
        }
      ]
    },
    {
      "cell_type": "code",
      "source": [
        "# 9. Write a class Fraction with attributes numerator and denominator.\n",
        "#    Override the str method to display the fraction as \"numerator/denominator\".\n",
        "\n",
        "class Fraction:\n",
        "    def __init__(self, numerator, denominator):\n",
        "        self.numerator = numerator\n",
        "        self.denominator = denominator\n",
        "\n",
        "    def __str__(self):\n",
        "        return f\"{self.numerator}/{self.denominator}\"\n",
        "\n",
        "f = Fraction(3, 4)\n",
        "print(f)\n"
      ],
      "metadata": {
        "colab": {
          "base_uri": "https://localhost:8080/"
        },
        "id": "CoJfbQRKtSaf",
        "outputId": "f69d7c26-69fc-4d6f-f605-bc9b101e8fb4"
      },
      "execution_count": 14,
      "outputs": [
        {
          "output_type": "stream",
          "name": "stdout",
          "text": [
            "3/4\n"
          ]
        }
      ]
    },
    {
      "cell_type": "code",
      "source": [
        "\n",
        "\n",
        "# 10. Demonstrate operator overloading by creating a class Vector and\n",
        "#     overriding the add method to add two vectors.\n",
        "\n",
        "class Vector:\n",
        "    def __init__(self, x, y):\n",
        "        self.x = x\n",
        "        self.y = y\n",
        "\n",
        "    def __add__(self, other):\n",
        "        return Vector(self.x + other.x, self.y + other.y)\n",
        "\n",
        "    def __str__(self):\n",
        "        return f\"Vector({self.x}, {self.y})\"\n",
        "\n",
        "v1 = Vector(2, 3)\n",
        "v2 = Vector(4, 5)\n",
        "v3 = v1 + v2\n",
        "print(v3)\n"
      ],
      "metadata": {
        "colab": {
          "base_uri": "https://localhost:8080/"
        },
        "id": "3foO7SKBtT6o",
        "outputId": "958209ea-1d9f-4a54-fefa-918c4f24a4c6"
      },
      "execution_count": 15,
      "outputs": [
        {
          "output_type": "stream",
          "name": "stdout",
          "text": [
            "Vector(6, 8)\n"
          ]
        }
      ]
    },
    {
      "cell_type": "code",
      "source": [
        "# 11. Create a class Person with attributes name and age.\n",
        "#     Add a method greet() that prints \"Hello, my name is {name} and I am {age} years old.\"\n",
        "\n",
        "class Person:\n",
        "    def __init__(self, name, age):\n",
        "        self.name = name\n",
        "        self.age = age\n",
        "\n",
        "    def greet(self):\n",
        "        print(f\"Hello, my name is {self.name} and I am {self.age} years old.\")\n",
        "\n",
        "p = Person(\"Awadhesh\", 20)\n",
        "p.greet()\n"
      ],
      "metadata": {
        "colab": {
          "base_uri": "https://localhost:8080/"
        },
        "id": "oRm7MhqttVeT",
        "outputId": "3d1d4ec0-fd15-41d4-ad9a-5d64603f6bf9"
      },
      "execution_count": 16,
      "outputs": [
        {
          "output_type": "stream",
          "name": "stdout",
          "text": [
            "Hello, my name is Awadhesh and I am 20 years old.\n"
          ]
        }
      ]
    },
    {
      "cell_type": "code",
      "source": [
        "# 12. Implement a class Student with attributes name and grades.\n",
        "#     Create a method average_grade() to compute the average of the grades.\n",
        "\n",
        "class Student:\n",
        "    def __init__(self, name, grades):\n",
        "        self.name = name\n",
        "        self.grades = grades\n",
        "\n",
        "    def average_grade(self):\n",
        "        return sum(self.grades) / len(self.grades)\n",
        "\n",
        "s = Student(\"Awadhesh\", [85, 90, 78])\n",
        "print(\"Average grade:\", s.average_grade())\n"
      ],
      "metadata": {
        "colab": {
          "base_uri": "https://localhost:8080/"
        },
        "id": "3tydCs77tXEr",
        "outputId": "98ba3391-cc54-4925-e61f-7590c628ceba"
      },
      "execution_count": 17,
      "outputs": [
        {
          "output_type": "stream",
          "name": "stdout",
          "text": [
            "Average grade: 84.33333333333333\n"
          ]
        }
      ]
    },
    {
      "cell_type": "code",
      "source": [
        "# 13. Create a class Rectangle with methods set_dimensions() to set the dimensions\n",
        "#     and area() to calculate the area.\n",
        "\n",
        "class Rectangle:\n",
        "    def set_dimensions(self, width, height):\n",
        "        self.width = width\n",
        "        self.height = height\n",
        "\n",
        "    def area(self):\n",
        "        return self.width * self.height\n",
        "\n",
        "r = Rectangle()\n",
        "r.set_dimensions(4, 5)\n",
        "print(\"Area of rectangle:\", r.area())\n"
      ],
      "metadata": {
        "colab": {
          "base_uri": "https://localhost:8080/"
        },
        "id": "okU9wunEtYQ1",
        "outputId": "3d639213-c650-4df5-945e-a14061ff23ce"
      },
      "execution_count": 18,
      "outputs": [
        {
          "output_type": "stream",
          "name": "stdout",
          "text": [
            "Area of rectangle: 20\n"
          ]
        }
      ]
    },
    {
      "cell_type": "code",
      "source": [
        "# 14. Create a class Employee with a method calculate_salary() that computes the salary\n",
        "#     based on hours worked and hourly rate. Create a derived class Manager that adds a bonus to the salary.\n",
        "\n",
        "class Employee:\n",
        "    def calculate_salary(self, hours, rate):\n",
        "        return hours * rate\n",
        "\n",
        "class Manager(Employee):\n",
        "    def calculate_salary(self, hours, rate, bonus):\n",
        "        return super().calculate_salary(hours, rate) + bonus\n",
        "\n",
        "e = Employee()\n",
        "m = Manager()\n",
        "\n",
        "print(\"Employee Salary:\", e.calculate_salary(40, 100))\n",
        "print(\"Manager Salary:\", m.calculate_salary(40, 100, 500))\n"
      ],
      "metadata": {
        "colab": {
          "base_uri": "https://localhost:8080/"
        },
        "id": "vWa0pDiYtZvl",
        "outputId": "91b63a11-0ea6-47e6-c0b4-07d895b457d1"
      },
      "execution_count": 19,
      "outputs": [
        {
          "output_type": "stream",
          "name": "stdout",
          "text": [
            "Employee Salary: 4000\n",
            "Manager Salary: 4500\n"
          ]
        }
      ]
    },
    {
      "cell_type": "code",
      "source": [
        "# 15. Create a class Product with attributes name, price, and quantity.\n",
        "#     Implement a method total_price() that calculates the total price of the product.\n",
        "\n",
        "class Product:\n",
        "    def __init__(self, name, price, quantity):\n",
        "        self.name = name\n",
        "        self.price = price\n",
        "        self.quantity = quantity\n",
        "\n",
        "    def total_price(self):\n",
        "        return self.price * self.quantity\n",
        "\n",
        "p = Product(\"Pen\", 10, 5)\n",
        "print(\"Total price:\", p.total_price())\n"
      ],
      "metadata": {
        "colab": {
          "base_uri": "https://localhost:8080/"
        },
        "id": "AWIbNVJXtoGp",
        "outputId": "02e6e749-a307-41d6-b950-581061990d93"
      },
      "execution_count": 20,
      "outputs": [
        {
          "output_type": "stream",
          "name": "stdout",
          "text": [
            "Total price: 50\n"
          ]
        }
      ]
    },
    {
      "cell_type": "code",
      "source": [
        "# 16. Create a class Animal with an abstract method sound().\n",
        "#     Create two derived classes Cow and Sheep that implement the sound() method.\n",
        "\n",
        "from abc import ABC, abstractmethod\n",
        "\n",
        "class Animal(ABC):\n",
        "    @abstractmethod\n",
        "    def sound(self):\n",
        "        pass\n",
        "\n",
        "class Cow(Animal):\n",
        "    def sound(self):\n",
        "        print(\"Moo\")\n",
        "\n",
        "class Sheep(Animal):\n",
        "    def sound(self):\n",
        "        print(\"Baa\")\n",
        "\n",
        "c = Cow()\n",
        "s = Sheep()\n",
        "c.sound()\n",
        "s.sound()\n"
      ],
      "metadata": {
        "colab": {
          "base_uri": "https://localhost:8080/"
        },
        "id": "3E19qa9UtqNY",
        "outputId": "2825e742-a8f1-4dd5-8543-e0e7f84371f5"
      },
      "execution_count": 21,
      "outputs": [
        {
          "output_type": "stream",
          "name": "stdout",
          "text": [
            "Moo\n",
            "Baa\n"
          ]
        }
      ]
    },
    {
      "cell_type": "code",
      "source": [
        "# 17. Create a class Book with attributes title, author, and year_published.\n",
        "#     Add a method get_book_info() that returns a formatted string with the book's details.\n",
        "\n",
        "class Book:\n",
        "    def __init__(self, title, author, year_published):\n",
        "        self.title = title\n",
        "        self.author = author\n",
        "        self.year_published = year_published\n",
        "\n",
        "    def get_book_info(self):\n",
        "        return f\"'{self.title}' by {self.author}, published in {self.year_published}\"\n",
        "\n",
        "b = Book(\"The Alchemist\", \"Paulo Coelho\", 1988)\n",
        "print(b.get_book_info())\n"
      ],
      "metadata": {
        "colab": {
          "base_uri": "https://localhost:8080/"
        },
        "id": "7M2V_d_LtsED",
        "outputId": "cbb614b0-4692-47dc-92be-166ac7246346"
      },
      "execution_count": 22,
      "outputs": [
        {
          "output_type": "stream",
          "name": "stdout",
          "text": [
            "'The Alchemist' by Paulo Coelho, published in 1988\n"
          ]
        }
      ]
    },
    {
      "cell_type": "code",
      "source": [
        "# 18. Create a class House with attributes address and price.\n",
        "#     Create a derived class Mansion that adds an attribute number_of_rooms.\n",
        "\n",
        "class House:\n",
        "    def __init__(self, address, price):\n",
        "        self.address = address\n",
        "        self.price = price\n",
        "\n",
        "class Mansion(House):\n",
        "    def __init__(self, address, price, number_of_rooms):\n",
        "        super().__init__(address, price)\n",
        "        self.number_of_rooms = number_of_rooms\n",
        "\n",
        "    def show_info(self):\n",
        "        print(f\"Address: {self.address}, Price: {self.price}, Rooms: {self.number_of_rooms}\")\n",
        "\n",
        "m = Mansion(\"123 Luxury Street\", 5000000, 10)\n",
        "m.show_info()\n"
      ],
      "metadata": {
        "colab": {
          "base_uri": "https://localhost:8080/"
        },
        "id": "2GeGS1UGtthV",
        "outputId": "5f2ada22-5591-4620-8981-ef75ff02c737"
      },
      "execution_count": 23,
      "outputs": [
        {
          "output_type": "stream",
          "name": "stdout",
          "text": [
            "Address: 123 Luxury Street, Price: 5000000, Rooms: 10\n"
          ]
        }
      ]
    },
    {
      "cell_type": "code",
      "source": [],
      "metadata": {
        "id": "6uj1KjDFuDns"
      },
      "execution_count": 23,
      "outputs": []
    }
  ]
}